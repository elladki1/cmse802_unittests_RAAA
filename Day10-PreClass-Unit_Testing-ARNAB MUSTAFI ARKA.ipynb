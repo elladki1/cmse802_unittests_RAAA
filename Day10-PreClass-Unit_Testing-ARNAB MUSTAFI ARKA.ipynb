{
 "cells": [
  {
   "cell_type": "markdown",
   "metadata": {},
   "source": [
    "# Day 10: PCA: Unit testing\n",
    "\n",
    "### <p style='text-align: right;'> &#9989; ARNAB MUSTAFI ARKA\n",
    "\n",
    "\n"
   ]
  },
  {
   "cell_type": "markdown",
   "metadata": {},
   "source": [
    "---"
   ]
  },
  {
   "cell_type": "markdown",
   "metadata": {},
   "source": [
    "# __Unit Testing: pre-class__"
   ]
  },
  {
   "cell_type": "markdown",
   "metadata": {},
   "source": [
    "# ___Learning objectives___\n",
    "\n",
    "At the end of the exercise, you should be able to:\n",
    "- Explain why unit testing is needed.\n",
    "- Explain what the unittest module is for.\n",
    "- Implement a simple unit test."
   ]
  },
  {
   "cell_type": "markdown",
   "metadata": {},
   "source": [
    "# __Outline__ \n",
    "\n",
    "\n",
    "1. [Introduction to Unit Testing](#intro)\n",
    "1. [Unit test example](#example)\n",
    "1. [Assignment wrap-up](#wrapup)\n"
   ]
  },
  {
   "cell_type": "markdown",
   "metadata": {
    "tags": []
   },
   "source": [
    "---\n",
    "\n",
    "<a id=\"intro\"></a>\n",
    "\n",
    "# ___Introduction to Unit Testing___"
   ]
  },
  {
   "cell_type": "markdown",
   "metadata": {
    "tags": []
   },
   "source": [
    "## What a unit test is:\n",
    "\n",
    "Unit tests are small tests of individual parts of your code. \n",
    "- Absolutely necessary to grow a project past a few developers\n",
    "- Ideally, they run after every major/minor change and provide a reality check that nothing is broken.\n",
    "- Good unit tests are hard to do and can take practice and time (which is not often where you want to spend your time).  \n",
    "- That being said, if you know the basic format/syntax of some of the most common testing programs you can format your code in advance to be ready for unit testing.  \n",
    "\n",
    "🗒️ **Task:** In [the wikipedia page for unit testing](https://en.wikipedia.org/wiki/Unit_testing), the advantages and disadvantages for unit tests are discussed. In the space below, summarize the pros and cons of unit tests."
   ]
  },
  {
   "cell_type": "markdown",
   "metadata": {},
   "source": [
    "✏️ **Answer:** Unit tests are helpful because they find bugs early, make code easier to change, improve reliability, and support teamwork. However, they also take time to write, are hard to cover everything, often need updates, and are less useful if written poorly."
   ]
  },
  {
   "cell_type": "markdown",
   "metadata": {
    "tags": []
   },
   "source": [
    "## The `unittest` module"
   ]
  },
  {
   "cell_type": "markdown",
   "metadata": {
    "tags": []
   },
   "source": [
    "🗒️ **Task:** We will start with the most basic unit test program built with python; ```unittest```. Make sure this is installed in your `cmse802` conda environment and run the following: "
   ]
  },
  {
   "cell_type": "code",
   "execution_count": 16,
   "metadata": {
    "tags": []
   },
   "outputs": [
    {
     "name": "stdout",
     "output_type": "stream",
     "text": [
      "Help on function assertEqual in module unittest.case:\n",
      "\n",
      "assertEqual(self, first, second, msg=None)\n",
      "    Fail if the two objects are unequal as determined by the '=='\n",
      "    operator.\n",
      "\n"
     ]
    }
   ],
   "source": [
    "# Activate your cmse802 environment\n",
    "\n",
    "import unittest\n",
    "\n",
    "help(unittest.TestCase.assertEqual)"
   ]
  },
  {
   "cell_type": "markdown",
   "metadata": {},
   "source": [
    "🗒️ **Question:** In the above line, the help information for `assertEqual` from `unittest.TestCase` is printed out. Answer the following questions:\n",
    "\n",
    "- How is `assertEqual` different from `assertAlmostEqual`?\n",
    "- What does `assertRaises` do?\n",
    "\n",
    "Provide the code to get help from these two functions, then put your answers as comments in the code cell."
   ]
  },
  {
   "cell_type": "markdown",
   "metadata": {},
   "source": [
    "✏️ **Answer:**"
   ]
  },
  {
   "cell_type": "code",
   "execution_count": 17,
   "metadata": {},
   "outputs": [
    {
     "name": "stdout",
     "output_type": "stream",
     "text": [
      "Help on function assertAlmostEqual in module unittest.case:\n",
      "\n",
      "assertAlmostEqual(self, first, second, places=None, msg=None, delta=None)\n",
      "    Fail if the two objects are unequal as determined by their\n",
      "    difference rounded to the given number of decimal places\n",
      "    (default 7) and comparing to zero, or by comparing that the\n",
      "    difference between the two objects is more than the given\n",
      "    delta.\n",
      "    \n",
      "    Note that decimal places (from zero) are usually not the same\n",
      "    as significant digits (measured from the most significant digit).\n",
      "    \n",
      "    If the two objects compare equal then they will automatically\n",
      "    compare almost equal.\n",
      "\n",
      "Help on function assertRaises in module unittest.case:\n",
      "\n",
      "assertRaises(self, expected_exception, *args, **kwargs)\n",
      "    Fail unless an exception of class expected_exception is raised\n",
      "    by the callable when invoked with specified positional and\n",
      "    keyword arguments. If a different type of exception is\n",
      "    raised, it will not be caught, and the test case will be\n",
      "    deemed to have suffered an error, exactly as for an\n",
      "    unexpected exception.\n",
      "    \n",
      "    If called with the callable and arguments omitted, will return a\n",
      "    context object used like this::\n",
      "    \n",
      "         with self.assertRaises(SomeException):\n",
      "             do_something()\n",
      "    \n",
      "    An optional keyword argument 'msg' can be provided when assertRaises\n",
      "    is used as a context object.\n",
      "    \n",
      "    The context manager keeps a reference to the exception as\n",
      "    the 'exception' attribute. This allows you to inspect the\n",
      "    exception after the assertion::\n",
      "    \n",
      "        with self.assertRaises(SomeException) as cm:\n",
      "            do_something()\n",
      "        the_exception = cm.exception\n",
      "        self.assertEqual(the_exception.error_code, 3)\n",
      "\n"
     ]
    }
   ],
   "source": [
    "### ANSWER\n",
    "import unittest\n",
    "\n",
    "# Get help for the two functions\n",
    "help(unittest.TestCase.assertAlmostEqual)\n",
    "help(unittest.TestCase.assertRaises)\n",
    "\n",
    "### ANSWER\n",
    "\n",
    "# assertEqual checks if two values are exactly equal (using ==).\n",
    "# assertAlmostEqual checks if two values are approximately equal, useful for floating-point comparisons.\n",
    "\n",
    "# assertRaises checks if a specific exception is raised when running code.\n"
   ]
  },
  {
   "cell_type": "markdown",
   "metadata": {},
   "source": [
    "---\n",
    "<a id=\"example\"></a>\n",
    "# ___Unit test example___\n",
    "\n",
    "The code you develop below __will be used for an in-class exercise__. Please make sure you get them done!"
   ]
  },
  {
   "cell_type": "markdown",
   "metadata": {},
   "source": [
    "## How to create unit test with `unittest`?\n",
    "\n",
    "🗒️ **Task:** Watch [this 8 min video](https://www.youtube.com/watch?v=1Lfv5tUGsn8) titled _Unit Tests in Python_."
   ]
  },
  {
   "cell_type": "markdown",
   "metadata": {},
   "source": [
    "## Set up the function we want to test\n",
    "\n",
    "🗒️ **Task:** Follow the examples provided in the video:\n",
    "\n",
    "- Create a file named `circles.py` with a barebone `circle_area` function.  Store it in the same directory as this notebook."
   ]
  },
  {
   "cell_type": "markdown",
   "metadata": {},
   "source": [
    "The following code imports your `circle_area` function and calls it, passing $1$ as the argument. "
   ]
  },
  {
   "cell_type": "code",
   "execution_count": 18,
   "metadata": {},
   "outputs": [
    {
     "name": "stdout",
     "output_type": "stream",
     "text": [
      "Overwriting circles.py\n"
     ]
    }
   ],
   "source": [
    "%%writefile circles.py\n",
    "import math\n",
    "\n",
    "def circle_area(r):\n",
    "    return math.pi * (r ** 2)\n"
   ]
  },
  {
   "cell_type": "code",
   "execution_count": 19,
   "metadata": {},
   "outputs": [
    {
     "name": "stdout",
     "output_type": "stream",
     "text": [
      "Overwriting test_circles.py\n"
     ]
    }
   ],
   "source": [
    "%%writefile test_circles.py\n",
    "import unittest, math\n",
    "from circles import circle_area\n",
    "\n",
    "class TestCircleArea(unittest.TestCase):\n",
    "    def test_area(self):\n",
    "        self.assertAlmostEqual(circle_area(1), math.pi, places=12)\n",
    "\n",
    "if __name__ == \"__main__\":\n",
    "    unittest.main()\n"
   ]
  },
  {
   "cell_type": "code",
   "execution_count": 20,
   "metadata": {},
   "outputs": [
    {
     "name": "stdout",
     "output_type": "stream",
     "text": [
      "3.141592653589793\n"
     ]
    }
   ],
   "source": [
    "from circles import circle_area\n",
    "\n",
    "print(circle_area(1))"
   ]
  },
  {
   "cell_type": "markdown",
   "metadata": {},
   "source": [
    "🗒️ **Task:** Now call `circle_area` by passing $-1$ as the argument. Explain if this result makes sense."
   ]
  },
  {
   "cell_type": "code",
   "execution_count": 21,
   "metadata": {},
   "outputs": [
    {
     "name": "stdout",
     "output_type": "stream",
     "text": [
      "3.141592653589793\n"
     ]
    }
   ],
   "source": [
    "### ANSWER\n",
    "from circles import circle_area\n",
    "\n",
    "print(circle_area(-1))   \n"
   ]
  },
  {
   "cell_type": "markdown",
   "metadata": {},
   "source": [
    "Explanation: The result is not meaningful because a circle cannot have a negative radius. The current barebone function simply squares the input and returns a positive area. A better version should raise an error when the radius is negative."
   ]
  },
  {
   "cell_type": "markdown",
   "metadata": {},
   "source": [
    "## Create `test_area` function\n",
    "\n",
    "In unit tests, one of the first things we should do is to ensure the function you implmented gets the right answer.\n",
    "- For example, for `circle_area`, you'd expect when the radius is 1, the answer should be ~3.14."
   ]
  },
  {
   "cell_type": "markdown",
   "metadata": {},
   "source": [
    "🗒️ **Task:** Follow the examples provided in the video:\n",
    "\n",
    "- Create `test_circles.py` that use `unittest` and has just the `test_area` function.\n",
    "- Run unit test in your terminal with the following command. What is the output from the test? Paste it below.\n",
    "\n",
    "```bash\n",
    "python -m unittest test_circles\n",
    "```"
   ]
  },
  {
   "cell_type": "code",
   "execution_count": null,
   "metadata": {},
   "outputs": [],
   "source": [
    "### ANSWER\n",
    "import unittest, math\n",
    "from circles import circle_area\n",
    "\n",
    "class TestCircleArea(unittest.TestCase):\n",
    "    def test_area(self):\n",
    "        # Test when radius = 1\n",
    "        self.assertAlmostEqual(circle_area(1), math.pi, places=12)\n",
    "\n",
    "if __name__ == \"__main__\":\n",
    "    unittest.main()\n"
   ]
  },
  {
   "cell_type": "markdown",
   "metadata": {},
   "source": [
    "## Create `test_values` function\n",
    "\n",
    "Once the test for evaluating the expected values can be generated, we can next focus on testing situations when the function should not work.\n",
    "\n",
    "🗒️ **Task:** Follow the examples provided in the video:\n",
    "\n",
    "- Revise your `test_circles.py` to include a `test_values` function that raises errors when the passed value is negative.\n",
    "- Run a unit test. What is the output from the test? Paste it below."
   ]
  },
  {
   "cell_type": "markdown",
   "metadata": {},
   "source": [
    "✏️ **Answer:** test_area (test_circles.TestCircleArea.test_area) ... ok\n",
    "test_values (test_circles.TestCircleArea.test_values) ... ok\n",
    "\n",
    "Ran 2 tests in 0.001s\n",
    "\n",
    "OK\n"
   ]
  },
  {
   "cell_type": "code",
   "execution_count": null,
   "metadata": {},
   "outputs": [],
   "source": [
    "import unittest, math\n",
    "from circles import circle_area\n",
    "\n",
    "class TestCircleArea(unittest.TestCase):\n",
    "    def test_area(self):\n",
    "        # Test when radius = 1\n",
    "        self.assertAlmostEqual(circle_area(1), math.pi, places=12)\n",
    "\n",
    "    def test_values(self):\n",
    "        # Test negative radius should raise an error\n",
    "        with self.assertRaises(ValueError):\n",
    "            circle_area(-1)\n",
    "\n",
    "if __name__ == \"__main__\":\n",
    "    unittest.main()\n"
   ]
  },
  {
   "cell_type": "markdown",
   "metadata": {},
   "source": [
    "## Modify your `circles.py`\n",
    "\n",
    "🗒️ **Task:** Through unit test, you know that the `circle_area` function cannot deal with situations when:\n",
    "\n",
    "- A negative real number is provided,\n",
    "- Or a non-real number is provided.\n",
    "\n",
    "Revise your `circles.py` that will deal with the above two situations:\n",
    "- Note that the tutorial video provides examples on how to do this.\n",
    "- Put your revised `circles.py` in the space below."
   ]
  },
  {
   "cell_type": "code",
   "execution_count": null,
   "metadata": {},
   "outputs": [],
   "source": [
    "### ANSWER\n",
    "import math\n",
    "\n",
    "def circle_area(r):\n",
    "    # Check if r is a number (int or float)\n",
    "    if not isinstance(r, (int, float)):\n",
    "        raise TypeError(\"The radius must be a real number (int or float).\")\n",
    "    \n",
    "    # Check if r is negative\n",
    "    if r < 0:\n",
    "        raise ValueError(\"The radius cannot be negative.\")\n",
    "    \n",
    "    return math.pi * (r ** 2)\n"
   ]
  },
  {
   "cell_type": "markdown",
   "metadata": {},
   "source": [
    "## Ensure that it passes your tests\n",
    "\n",
    "Re-run the `unittest` command to ensure that all tests now pass.  How satisfying!"
   ]
  },
  {
   "cell_type": "markdown",
   "metadata": {},
   "source": [
    "---\n",
    "## Assignment wrap-up\n",
    "Please fill out the form that appears when you run the code below.  **You must completely fill this out in order to receive credit for the assignment!** If running the cell doesn't work in VS Code copy the link `src` and paste in the browser. Make sure to sign in with your MSU email. \n"
   ]
  },
  {
   "cell_type": "code",
   "execution_count": null,
   "metadata": {},
   "outputs": [],
   "source": [
    "from IPython.display import HTML\n",
    "HTML(\n",
    "'''\n",
    "<iframe \n",
    "    src=\"https://forms.office.com/r/A9kij6yedJ\" \n",
    "    width=\"800px\" \n",
    "    height=\"600px\" \n",
    "    frameborder=\"0\" \n",
    "    marginheight=\"0\" \n",
    "    marginwidth=\"0\">\n",
    "    Loading...\n",
    "</iframe>\n",
    "'''\n",
    ")\n"
   ]
  },
  {
   "cell_type": "markdown",
   "metadata": {},
   "source": [
    "## Congratulations, you're done with your pre-class assignment!\n",
    "\n",
    "Now, you just need to submit this assignment by uploading it to the course <a href=\"https://d2l.msu.edu/\">Desire2Learn</a> web page for the appropriate pre-class submission folder. (Don't forget to add your name in the first cell).\n"
   ]
  }
 ],
 "metadata": {
  "kernelspec": {
   "display_name": "cmse802",
   "language": "python",
   "name": "python3"
  },
  "language_info": {
   "codemirror_mode": {
    "name": "ipython",
    "version": 3
   },
   "file_extension": ".py",
   "mimetype": "text/x-python",
   "name": "python",
   "nbconvert_exporter": "python",
   "pygments_lexer": "ipython3",
   "version": "3.11.10"
  }
 },
 "nbformat": 4,
 "nbformat_minor": 4
}
