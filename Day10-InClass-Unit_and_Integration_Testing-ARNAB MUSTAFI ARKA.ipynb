{
 "cells": [
  {
   "cell_type": "markdown",
   "metadata": {},
   "source": [
    "# Day 10: In class assignment: Unit and Integration Testing\n",
    "\n",
    "### <p style='text-align: right;'> &#9989; Put your name here.\n",
    "<p style='text-align: right;'> &#9989; Put your group member names here."
   ]
  },
  {
   "cell_type": "markdown",
   "metadata": {},
   "source": [
    "<img alt=\"Code review icon\" src=\"https://static.thenounproject.com/png/101170-200.png\">\n",
    "\n",
    "Image From: https://static.thenounproject.com/"
   ]
  },
  {
   "cell_type": "markdown",
   "metadata": {
    "tags": []
   },
   "source": [
    "# ___Learning objectives___\n",
    "\n",
    "At the end of the exercise, you should be able to:\n",
    "- Know the difference between unit tests and integration tests.\n",
    "- Practice writing tests for small, isolated functions.  \n",
    "- Collaborate to integrate components and validate the entire pipeline.  "
   ]
  },
  {
   "cell_type": "markdown",
   "metadata": {},
   "source": [
    "----\n",
    "<a id=\"preclass\"></a>\n",
    "\n",
    "# Unit tests vs integration tests\n",
    "\n",
    "In the preclass assignment we learned that unit tests make sure that **components of the code base perform well in isolation**.  They are best used with small, well-defined pieces of code that have controlled inputs and expected outputs.\n",
    "\n",
    "A complementary tool is **\"integration testing\"** which verifies that multiple components work together as intended. Integration tests assess how well individual pieces interact within the overall system, often using more realistic inputs and workflows."
   ]
  },
  {
   "cell_type": "markdown",
   "metadata": {
    "tags": []
   },
   "source": [
    "----\n",
    "<a id=\"preclass\"></a>\n",
    "\n",
    "# Outline"
   ]
  },
  {
   "cell_type": "markdown",
   "metadata": {
    "tags": []
   },
   "source": [
    "Today you will be working in groups to **implement a simple data processing pipeline**, while assessing it using both unit tests and integration tests.  This pipeline will:\n",
    "1. Load HTML text from a source.  \n",
    "2. Extract candidate email addresses using regex.  \n",
    "3. Filter for `msu.edu` addresses.  \n",
    "4. Format a final list of MSU email handles for output.\n",
    "\n",
    "The code that you are writing will mostly be very simple!  The goal is to gain experience writing unit tests for a project and think about how to **design tests that are efficient yet effective**.\n",
    "\n",
    "## GitHub repository\n",
    "\n",
    "Each step in the pipeline will be implemented by a function that is contained in its own `.py` file.  All files will be hosted in a GitHub repository.  Each function will also have a corresponding test file that follows one of the naming conventions from the preclass assignment.\n",
    "\n",
    "## Tasks\n",
    "\n",
    "The main tasks in the pipeline are as follows:\n",
    "\n",
    "1. **Load HTML** \n",
    "   ```python\n",
    "   def load_html(source: str) -> str\n",
    "       \"\"\"\n",
    "       Accepts a url (string) and returns the source html of a webpage.\n",
    "\n",
    "       [save this in html.py]\n",
    "       \"\"\"\n",
    "   ```\n",
    "2. **Extract All Email Addresses**  \n",
    "   ```python\n",
    "   def extract_emails(html: str) -> list[str]\n",
    "       \"\"\"\n",
    "       Parses html (string) and returns a list of email addresses.\n",
    "\n",
    "       [save this in extract.py]\n",
    "       \"\"\"\n",
    "   ```\n",
    "3. **Filter for msu.edu Addresses**  \n",
    "   ```python\n",
    "   def filter_edu(emails: list[str]) -> list[str]\n",
    "       \"\"\"\n",
    "       Filters a list of email addresses to keep only those that end in msu.edu\n",
    "\n",
    "       [save this in edufinder.py]\n",
    "       \"\"\"\n",
    "   ```\n",
    "4. **Format handles**  \n",
    "   ```python\n",
    "   def combine_handles(emails: list[str]) -> str\n",
    "       \"\"\"\n",
    "       Combine only the handles of the email addresses into a comma separated string\n",
    "\n",
    "       [save this in combine.py]\n",
    "       \"\"\"\n",
    "   ```\n",
    "5. **Pipeline**\n",
    "   ```python\n",
    "   from html import load_html\n",
    "   from extract import extract_emails\n",
    "   from edufinder import filter_edu\n",
    "   from combine import combine_handles\n",
    "\n",
    "   import sys\n",
    "   \n",
    "   def msu_handle_finder(source: str) -> str:\n",
    "       \"\"\"\n",
    "       This main function executes the entire pipeline.\n",
    "\n",
    "       [save this in finder.py]\n",
    "       \"\"\"\n",
    "        html = load_html(source)\n",
    "        emails = extract_emails(html)\n",
    "        edu_emails = filter_edu(emails)\n",
    "        return combine_handles(edu_emails)\n",
    "\n",
    "    \n",
    "    if __name__ == '__main__':\n",
    "        url = sys.argv[1]\n",
    "        handles = msu_handle_finder(url)\n",
    "\n",
    "        if len(handles) > 0:\n",
    "            print('MSU handles found!')\n",
    "            print(handles)\n",
    "        else:\n",
    "            print('No MSU handles found')    \n",
    "    \n",
    "    ```\n",
    "\n",
    "## Team Roles\n",
    "\n",
    "The work for each team can be split into **five main roles**:\n",
    "\n",
    "**Role 1:** ___Team Leader___.  \n",
    "- create GitHub repo  \n",
    "- invite members to the repo\n",
    "- oversee the writing of functions and unit tests\n",
    "- write an integration test that ensures the entire pipeline works together\n",
    "\n",
    "**Role 2:** ___The Scraper___.\n",
    "- write `load_html`\n",
    "- write unit tests for `extract_emails`\n",
    "\n",
    "**Role 3:** ___The Extractor___.\n",
    "- write `extract_emails`\n",
    "- write unit tests for `filter_edu`\n",
    "\n",
    "**Role 4:** ___The Filtererer___.\n",
    "- write `filter_edu`\n",
    "- write unit tests for `combine_handles`\n",
    "\n",
    "**Role 5:** ___The Jackal___.\n",
    "- write `combine_handles`\n",
    "- write unit tests for `load_html`\n",
    "\n",
    "Assign roles for your team now.  If you have less than five team members then you'll have to divide the extra work."
   ]
  },
  {
   "cell_type": "markdown",
   "metadata": {
    "tags": []
   },
   "source": [
    "---\n",
    "<a id=\"unittest\"></a>\n",
    "# ___Step 1: Writing code___"
   ]
  },
  {
   "cell_type": "markdown",
   "metadata": {
    "tags": []
   },
   "source": [
    "&#9989; <font color=blue>**DO THIS:**</font> Write your assigned functions and **be sure to take note of the suggested filenames** to make integration easier at the end.\n",
    "\n",
    "**If you are the team lead**, take this time to set up the repo and invite your team members."
   ]
  },
  {
   "cell_type": "markdown",
   "metadata": {},
   "source": [
    "---\n",
    "<a id=\"unittest\"></a>\n",
    "# ___Step 2: Writing tests___\n",
    "\n",
    "&#9989; <font color=blue>**DO THIS:**</font> Write your assigned **test functions** and **be sure to follow the naming convention from your team**.  \n",
    "\n",
    "E.g. the test file for `html.py` should be either `html_test.py` or `test_html.py`.\n",
    "\n",
    "**If you are the team lead**, take this time to write a simple integration test that passes if the pipeline runs without any errors."
   ]
  },
  {
   "cell_type": "markdown",
   "metadata": {},
   "source": [
    "---\n",
    "<a id=\"unittest\"></a>\n",
    "# ___Step 3: Committing and pushing___\n",
    "\n",
    "&#9989; <font color=blue>**DO THIS:**</font> Commit and push your code and test functions to the main repo.  **You might need to pull first**, but merging should be easy since everyone is working in separate files.\n",
    "\n",
    "After the repo is completed, **everyone should pull a copy** to their local machines."
   ]
  },
  {
   "cell_type": "markdown",
   "metadata": {},
   "source": [
    "---\n",
    "<a id=\"unittest\"></a>\n",
    "# ___Step 4: Run `unittest`___\n",
    "\n",
    "&#9989; <font color=blue>**DO THIS:**</font> Use `python -m unittest discover` to run all of the tests in the repo.  **Even if your integration test passed**, double check by running `finder.py` using a url where you know there is (and isn't) an MSU handle on the page.\n",
    "\n",
    "🗒️ **Task:** Record the results of the testing below."
   ]
  },
  {
   "cell_type": "markdown",
   "metadata": {},
   "source": [
    "✏️ **Answer:**"
   ]
  },
  {
   "cell_type": "markdown",
   "metadata": {},
   "source": [
    "---\n",
    "<a id=\"unittest\"></a>\n",
    "# ___Step 5: Make edits to code and test suite___\n",
    "\n",
    "**Did your code run perfectly the first time?**  Of course not.  \n",
    "\n",
    "&#9989; <font color=blue>**DO THIS:**</font> As a group: \n",
    "\n",
    "1) Discuss what changes need to be made to the code and make a plan for executing them.\n",
    "2) Discuss what changes should be made to the test functions.  Was there an error in your integration that should have been caught by a unit test?  Remember that unit tests should ensure that the inputs and outputs of your function have the proper types.  Make a plan for adding or changing tests as well.\n",
    "\n",
    "🗒️ **Task:** Record the details of your plan below."
   ]
  },
  {
   "cell_type": "markdown",
   "metadata": {},
   "source": [
    "✏️ **Answer:**"
   ]
  },
  {
   "cell_type": "markdown",
   "metadata": {},
   "source": [
    "---\n",
    "<a id=\"unittest\"></a>\n",
    "# ___Step 6: Additional integration tests___\n",
    "\n",
    "&#9989; <font color=blue>**DO THIS:**</font> Add an integration test that tests two specific urls with known numbers of MSU email handles.  Add it to your repository and ensure your code passes."
   ]
  },
  {
   "cell_type": "markdown",
   "metadata": {},
   "source": [
    "---\n",
    "<a id=\"unittest\"></a>\n",
    "# ___Step 7: Discussion questions___\n",
    "\n",
    "1. How does writing tests change the experience of collaboration?  Are there aspects that become easier?  Aspects that become harder?\n",
    "2. If your code passes all tests today and sits unchanged, will it still pass the same tests in the future?  Why or why not?"
   ]
  },
  {
   "cell_type": "markdown",
   "metadata": {},
   "source": [
    "✏️ **Answer:**"
   ]
  },
  {
   "cell_type": "markdown",
   "metadata": {
    "tags": []
   },
   "source": [
    "---\n",
    "## (Optional) `pytest`\n",
    "\n",
    "There are many (Many!) other unit testers out there. Fortunately, most of them work nicely together.  One of the best is ```pytest```.\n",
    "\n",
    "&#9989; **<font color=blue>DO THIS:</font>** Install `pytest` in your `cmse802` environment."
   ]
  },
  {
   "cell_type": "code",
   "execution_count": null,
   "metadata": {},
   "outputs": [],
   "source": [
    "!pip install pytest"
   ]
  },
  {
   "cell_type": "markdown",
   "metadata": {},
   "source": [
    "&#9989; **<font color=blue>DO THIS:</font>** In your project directory, simply type `pytest` and press enter.\n",
    "\n",
    "🗒️ **Task:** Record the output of this command below."
   ]
  },
  {
   "cell_type": "markdown",
   "metadata": {},
   "source": [
    "✏️ **Answer:**"
   ]
  },
  {
   "cell_type": "markdown",
   "metadata": {},
   "source": [
    "&#9989; **<font color=blue>DO THIS:</font>** Re-run with `pytest -v`\n",
    "\n",
    "🗒️ **Task:** Record the output of this command below.  Are there any differences in the information given by `pytest` and `unittest`?"
   ]
  },
  {
   "cell_type": "markdown",
   "metadata": {},
   "source": [
    "✏️ **Answer:**"
   ]
  },
  {
   "cell_type": "markdown",
   "metadata": {},
   "source": [
    "## Congratulations, you're done!\n",
    "\n",
    "Submit this assignment by uploading your notebook to the course Desire2Learn web page.  Go to the \"In-Class Assignments\" folder, find the appropriate submission link, and upload everything there. Make sure your name is on it!"
   ]
  },
  {
   "cell_type": "markdown",
   "metadata": {},
   "source": [
    "---\n",
    "\n",
    "© 2024 Michigan State University. This material was created for the Department of Computational Mathematics, Science and Engineering (CMSE) at Michigan State University."
   ]
  }
 ],
 "metadata": {
  "kernelspec": {
   "display_name": "Python 3 (ipykernel)",
   "language": "python",
   "name": "python3"
  },
  "language_info": {
   "codemirror_mode": {
    "name": "ipython",
    "version": 3
   },
   "file_extension": ".py",
   "mimetype": "text/x-python",
   "name": "python",
   "nbconvert_exporter": "python",
   "pygments_lexer": "ipython3",
   "version": "3.11.13"
  }
 },
 "nbformat": 4,
 "nbformat_minor": 4
}
